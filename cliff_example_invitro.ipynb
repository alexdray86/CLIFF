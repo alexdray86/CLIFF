{
 "cells": [
  {
   "cell_type": "markdown",
   "metadata": {},
   "source": [
    "## CLIFF - Deconvolution of drug sensitivity into cell-type drug sensitivity\n",
    "\n",
    "We aimed at integrating drug sensitivity data with cell-type abundance predicted by a bulk deconvolution method - in our case CLIMB method. For this purpose, we developed CLIFF, which deconvolutes the drug sensitivity of cell subtypes. We performed deconvolution of six in vitro mixes containing four human leukemia cell lines (HL60, SUDHL4, K562, and THP1) exposed in parallel to seven drugs commonly used in AML consolidation therapies (5-Aza-2’- deoxycytidine, cytarabine, imatinib, nilotinib, doxorubicin, rapamycin, mitomycin C). To assess the accuracy of CLIFF, we determined cell viability of the four cell lines exposed individually to the same drug panel, doses, and time points"
   ]
  },
  {
   "cell_type": "code",
   "execution_count": 33,
   "metadata": {},
   "outputs": [],
   "source": [
    "import numpy as np\n",
    "import pandas as pd\n",
    "import scipy, sklearn\n",
    "import math\n",
    "import os\n",
    "import matplotlib as mlt\n",
    "import matplotlib.pyplot as plt\n",
    "import seaborn as sb\n",
    "import sklearn\n",
    "from sklearn.linear_model import LogisticRegression\n",
    "from sklearn.preprocessing import StandardScaler\n",
    "from sklearn.metrics import auc\n",
    "from scipy.stats import spearmanr, pearsonr\n",
    "from cliff.Cliff import Cliff, Cliff_CV\n",
    "from cliff.DataContainer import DataContainer\n",
    "from cliff.utils import sigmoid, rmse"
   ]
  },
  {
   "cell_type": "markdown",
   "metadata": {},
   "source": [
    "## Define CLIFF method and useful function\n",
    "\n",
    "The Cliff method is encoded as two class: \n",
    "\n",
    "- `DataContainer` : Loads, check and process all data tables necessary for `Cliff` to work\n",
    "- `Cliff`, `Cliff_CV` : contains the core of the method, which can be run with `run()` function."
   ]
  },
  {
   "cell_type": "markdown",
   "metadata": {},
   "source": [
    "## Load expression data"
   ]
  },
  {
   "cell_type": "code",
   "execution_count": 2,
   "metadata": {},
   "outputs": [],
   "source": [
    "# We load the bulk expression of the mixtures\n",
    "input_file = 'data/invitro_bulk_expr_cpm.csv'\n",
    "df_full = pd.read_csv(input_file, delimiter=',', index_col=0)\n",
    "bulk_expr = df_full.T.iloc[1:7].T\n",
    "bulk_expr.sort_index(axis=0, inplace=True)\n",
    "\n",
    "symbol_vec = np.array(df_full.T.iloc[0])\n",
    "sign_mat = df_full.T.iloc[7:11].T\n",
    "sign_mat.sort_index(axis=0, inplace=True)"
   ]
  },
  {
   "cell_type": "markdown",
   "metadata": {},
   "source": [
    "## Load data for a single drug and timepoint as an example run"
   ]
  },
  {
   "cell_type": "code",
   "execution_count": 98,
   "metadata": {
    "scrolled": true
   },
   "outputs": [
    {
     "data": {
      "text/html": [
       "<div>\n",
       "<style scoped>\n",
       "    .dataframe tbody tr th:only-of-type {\n",
       "        vertical-align: middle;\n",
       "    }\n",
       "\n",
       "    .dataframe tbody tr th {\n",
       "        vertical-align: top;\n",
       "    }\n",
       "\n",
       "    .dataframe thead th {\n",
       "        text-align: right;\n",
       "    }\n",
       "</style>\n",
       "<table border=\"1\" class=\"dataframe\">\n",
       "  <thead>\n",
       "    <tr style=\"text-align: right;\">\n",
       "      <th></th>\n",
       "      <th>HL60</th>\n",
       "      <th>K562</th>\n",
       "      <th>SUDHL4</th>\n",
       "      <th>THP1</th>\n",
       "    </tr>\n",
       "  </thead>\n",
       "  <tbody>\n",
       "    <tr>\n",
       "      <th>BULK1</th>\n",
       "      <td>0.2600</td>\n",
       "      <td>0.0900</td>\n",
       "      <td>0.3300</td>\n",
       "      <td>0.3200</td>\n",
       "    </tr>\n",
       "    <tr>\n",
       "      <th>BULK2</th>\n",
       "      <td>0.5700</td>\n",
       "      <td>0.1100</td>\n",
       "      <td>0.0700</td>\n",
       "      <td>0.2500</td>\n",
       "    </tr>\n",
       "    <tr>\n",
       "      <th>BULK3</th>\n",
       "      <td>0.3333</td>\n",
       "      <td>0.2222</td>\n",
       "      <td>0.0000</td>\n",
       "      <td>0.4444</td>\n",
       "    </tr>\n",
       "    <tr>\n",
       "      <th>BULK4</th>\n",
       "      <td>0.0500</td>\n",
       "      <td>0.0400</td>\n",
       "      <td>0.6100</td>\n",
       "      <td>0.3000</td>\n",
       "    </tr>\n",
       "    <tr>\n",
       "      <th>BULK5</th>\n",
       "      <td>0.0198</td>\n",
       "      <td>0.3168</td>\n",
       "      <td>0.1881</td>\n",
       "      <td>0.4752</td>\n",
       "    </tr>\n",
       "    <tr>\n",
       "      <th>BULK6</th>\n",
       "      <td>0.1200</td>\n",
       "      <td>0.2600</td>\n",
       "      <td>0.2000</td>\n",
       "      <td>0.4200</td>\n",
       "    </tr>\n",
       "  </tbody>\n",
       "</table>\n",
       "</div>"
      ],
      "text/plain": [
       "         HL60    K562  SUDHL4    THP1\n",
       "BULK1  0.2600  0.0900  0.3300  0.3200\n",
       "BULK2  0.5700  0.1100  0.0700  0.2500\n",
       "BULK3  0.3333  0.2222  0.0000  0.4444\n",
       "BULK4  0.0500  0.0400  0.6100  0.3000\n",
       "BULK5  0.0198  0.3168  0.1881  0.4752\n",
       "BULK6  0.1200  0.2600  0.2000  0.4200"
      ]
     },
     "execution_count": 98,
     "metadata": {},
     "output_type": "execute_result"
    }
   ],
   "source": [
    "# This is the true cell line proportions from experiment\n",
    "W_true = pd.read_csv(\"data/invitro_true_prop.csv\", delimiter = ',', index_col = 0)\n",
    "W_true"
   ]
  },
  {
   "cell_type": "code",
   "execution_count": 99,
   "metadata": {},
   "outputs": [
    {
     "data": {
      "text/html": [
       "<div>\n",
       "<style scoped>\n",
       "    .dataframe tbody tr th:only-of-type {\n",
       "        vertical-align: middle;\n",
       "    }\n",
       "\n",
       "    .dataframe tbody tr th {\n",
       "        vertical-align: top;\n",
       "    }\n",
       "\n",
       "    .dataframe thead th {\n",
       "        text-align: right;\n",
       "    }\n",
       "</style>\n",
       "<table border=\"1\" class=\"dataframe\">\n",
       "  <thead>\n",
       "    <tr style=\"text-align: right;\">\n",
       "      <th></th>\n",
       "      <th>BULK1_n1</th>\n",
       "      <th>BULK2_n1</th>\n",
       "      <th>BULK3_n1</th>\n",
       "      <th>BULK4_n1</th>\n",
       "      <th>BULK5_n1</th>\n",
       "      <th>BULK6_n1</th>\n",
       "      <th>BULK1_n2</th>\n",
       "      <th>BULK2_n2</th>\n",
       "      <th>BULK3_n2</th>\n",
       "      <th>BULK4_n2</th>\n",
       "      <th>BULK5_n2</th>\n",
       "      <th>BULK6_n2</th>\n",
       "    </tr>\n",
       "  </thead>\n",
       "  <tbody>\n",
       "    <tr>\n",
       "      <th>HL60</th>\n",
       "      <td>0.310084</td>\n",
       "      <td>0.507855</td>\n",
       "      <td>0.341170</td>\n",
       "      <td>0.090203</td>\n",
       "      <td>0.038883</td>\n",
       "      <td>0.136031</td>\n",
       "      <td>0.310084</td>\n",
       "      <td>0.507855</td>\n",
       "      <td>0.341170</td>\n",
       "      <td>0.090203</td>\n",
       "      <td>0.038883</td>\n",
       "      <td>0.136031</td>\n",
       "    </tr>\n",
       "    <tr>\n",
       "      <th>K562</th>\n",
       "      <td>0.124323</td>\n",
       "      <td>0.132048</td>\n",
       "      <td>0.162866</td>\n",
       "      <td>0.081004</td>\n",
       "      <td>0.326080</td>\n",
       "      <td>0.270711</td>\n",
       "      <td>0.124323</td>\n",
       "      <td>0.132048</td>\n",
       "      <td>0.162866</td>\n",
       "      <td>0.081004</td>\n",
       "      <td>0.326080</td>\n",
       "      <td>0.270711</td>\n",
       "    </tr>\n",
       "    <tr>\n",
       "      <th>SUDHL4</th>\n",
       "      <td>0.240638</td>\n",
       "      <td>0.154503</td>\n",
       "      <td>0.080360</td>\n",
       "      <td>0.528098</td>\n",
       "      <td>0.184536</td>\n",
       "      <td>0.191689</td>\n",
       "      <td>0.240638</td>\n",
       "      <td>0.154503</td>\n",
       "      <td>0.080360</td>\n",
       "      <td>0.528098</td>\n",
       "      <td>0.184536</td>\n",
       "      <td>0.191689</td>\n",
       "    </tr>\n",
       "    <tr>\n",
       "      <th>THP1</th>\n",
       "      <td>0.324954</td>\n",
       "      <td>0.205594</td>\n",
       "      <td>0.415604</td>\n",
       "      <td>0.300696</td>\n",
       "      <td>0.450500</td>\n",
       "      <td>0.401569</td>\n",
       "      <td>0.324954</td>\n",
       "      <td>0.205594</td>\n",
       "      <td>0.415604</td>\n",
       "      <td>0.300696</td>\n",
       "      <td>0.450500</td>\n",
       "      <td>0.401569</td>\n",
       "    </tr>\n",
       "  </tbody>\n",
       "</table>\n",
       "</div>"
      ],
      "text/plain": [
       "        BULK1_n1  BULK2_n1  BULK3_n1  BULK4_n1  BULK5_n1  BULK6_n1  BULK1_n2  \\\n",
       "HL60    0.310084  0.507855  0.341170  0.090203  0.038883  0.136031  0.310084   \n",
       "K562    0.124323  0.132048  0.162866  0.081004  0.326080  0.270711  0.124323   \n",
       "SUDHL4  0.240638  0.154503  0.080360  0.528098  0.184536  0.191689  0.240638   \n",
       "THP1    0.324954  0.205594  0.415604  0.300696  0.450500  0.401569  0.324954   \n",
       "\n",
       "        BULK2_n2  BULK3_n2  BULK4_n2  BULK5_n2  BULK6_n2  \n",
       "HL60    0.507855  0.341170  0.090203  0.038883  0.136031  \n",
       "K562    0.132048  0.162866  0.081004  0.326080  0.270711  \n",
       "SUDHL4  0.154503  0.080360  0.528098  0.184536  0.191689  \n",
       "THP1    0.205594  0.415604  0.300696  0.450500  0.401569  "
      ]
     },
     "execution_count": 99,
     "metadata": {},
     "output_type": "execute_result"
    }
   ],
   "source": [
    "# This is the CLIMB deconvolution estimate of cell line proportions in bulk\n",
    "W_single = pd.read_csv(\"data/invitro_climb_prop.csv\", index_col=0)\n",
    "# We double it to match our drug sensitivity replicates\n",
    "W_1 = W_single.copy() ; W_1.index = W_single.index + '_n1'\n",
    "W_2 = W_single.copy() ; W_2.index=W_single.index + '_n2'\n",
    "W = pd.concat([W_1, W_2]).T ; W = W.iloc[0:4,:]\n",
    "W"
   ]
  },
  {
   "cell_type": "markdown",
   "metadata": {},
   "source": [
    "Subset signature matrix genes to get same gene as in input bulk expression matrix"
   ]
  },
  {
   "cell_type": "markdown",
   "metadata": {},
   "source": [
    "#### Get drug response data and intersect it with input data"
   ]
  },
  {
   "cell_type": "code",
   "execution_count": 108,
   "metadata": {},
   "outputs": [
    {
     "data": {
      "text/html": [
       "<div>\n",
       "<style scoped>\n",
       "    .dataframe tbody tr th:only-of-type {\n",
       "        vertical-align: middle;\n",
       "    }\n",
       "\n",
       "    .dataframe tbody tr th {\n",
       "        vertical-align: top;\n",
       "    }\n",
       "\n",
       "    .dataframe thead th {\n",
       "        text-align: right;\n",
       "    }\n",
       "</style>\n",
       "<table border=\"1\" class=\"dataframe\">\n",
       "  <thead>\n",
       "    <tr style=\"text-align: right;\">\n",
       "      <th></th>\n",
       "      <th>d1</th>\n",
       "      <th>d2</th>\n",
       "      <th>d3</th>\n",
       "      <th>d4</th>\n",
       "      <th>d5</th>\n",
       "      <th>d6</th>\n",
       "      <th>d7</th>\n",
       "      <th>d8</th>\n",
       "      <th>d9</th>\n",
       "      <th>d10</th>\n",
       "    </tr>\n",
       "  </thead>\n",
       "  <tbody>\n",
       "    <tr>\n",
       "      <th>HL60</th>\n",
       "      <td>1.0</td>\n",
       "      <td>1.000000</td>\n",
       "      <td>0.993881</td>\n",
       "      <td>0.972028</td>\n",
       "      <td>0.944056</td>\n",
       "      <td>0.918361</td>\n",
       "      <td>0.744210</td>\n",
       "      <td>0.671607</td>\n",
       "      <td>0.810554</td>\n",
       "      <td>0.710319</td>\n",
       "    </tr>\n",
       "    <tr>\n",
       "      <th>K562</th>\n",
       "      <td>1.0</td>\n",
       "      <td>0.966292</td>\n",
       "      <td>0.532675</td>\n",
       "      <td>0.137077</td>\n",
       "      <td>0.019948</td>\n",
       "      <td>0.021532</td>\n",
       "      <td>0.002678</td>\n",
       "      <td>0.000000</td>\n",
       "      <td>0.000000</td>\n",
       "      <td>0.005270</td>\n",
       "    </tr>\n",
       "    <tr>\n",
       "      <th>SUDHL4</th>\n",
       "      <td>1.0</td>\n",
       "      <td>1.000000</td>\n",
       "      <td>1.000000</td>\n",
       "      <td>1.000000</td>\n",
       "      <td>1.000000</td>\n",
       "      <td>1.000000</td>\n",
       "      <td>0.921651</td>\n",
       "      <td>0.906214</td>\n",
       "      <td>1.000000</td>\n",
       "      <td>1.000000</td>\n",
       "    </tr>\n",
       "    <tr>\n",
       "      <th>THP1</th>\n",
       "      <td>1.0</td>\n",
       "      <td>1.000000</td>\n",
       "      <td>1.000000</td>\n",
       "      <td>0.836382</td>\n",
       "      <td>0.656633</td>\n",
       "      <td>0.579156</td>\n",
       "      <td>0.594995</td>\n",
       "      <td>0.592384</td>\n",
       "      <td>0.524242</td>\n",
       "      <td>0.499507</td>\n",
       "    </tr>\n",
       "  </tbody>\n",
       "</table>\n",
       "</div>"
      ],
      "text/plain": [
       "         d1        d2        d3        d4        d5        d6        d7  \\\n",
       "HL60    1.0  1.000000  0.993881  0.972028  0.944056  0.918361  0.744210   \n",
       "K562    1.0  0.966292  0.532675  0.137077  0.019948  0.021532  0.002678   \n",
       "SUDHL4  1.0  1.000000  1.000000  1.000000  1.000000  1.000000  0.921651   \n",
       "THP1    1.0  1.000000  1.000000  0.836382  0.656633  0.579156  0.594995   \n",
       "\n",
       "              d8        d9       d10  \n",
       "HL60    0.671607  0.810554  0.710319  \n",
       "K562    0.000000  0.000000  0.005270  \n",
       "SUDHL4  0.906214  1.000000  1.000000  \n",
       "THP1    0.592384  0.524242  0.499507  "
      ]
     },
     "execution_count": 108,
     "metadata": {},
     "output_type": "execute_result"
    }
   ],
   "source": [
    "drug = 'Nilotinib'\n",
    "drug_resp_file = \"data/invitro_drug_resp/Y_48h_\" + drug + \".csv\"\n",
    "drug_resp = pd.read_csv(drug_resp_file, delimiter=',', index_col=0)\n",
    "drug_resp_bulk = drug_resp.iloc[8:] # Bulk drug sensitivity data\n",
    "drug_resp_true = drug_resp.iloc[:8] # cell-type drug sensitivity data (ground truth)\n",
    "drug_resp_true_norm = pd.DataFrame(np.array([np.clip(x,0.0,1.0) for x in np.array(drug_resp_true)]),\n",
    "                                   index = drug_resp_true.index, columns = drug_resp_true.columns)\n",
    "cell_line_name = [x.replace(\"_n1\",\"\",).replace(\"_n2\",\"\",) for x in np.array(drug_resp_true_norm.index)][::2]\n",
    "drug_resp_true_av = pd.DataFrame(np.array([np.average(np.array(drug_resp_true_norm)[:,x].reshape(-1, 2), axis=1) for x in range(drug_resp_true.shape[1])])).T\n",
    "drug_resp_true_av.index = cell_line_name ; drug_resp_true_av.columns = drug_resp_true_norm.columns\n",
    "drug_resp_true_av.sort_index(axis=0, inplace=True)\n",
    "drug_resp_true_av"
   ]
  },
  {
   "cell_type": "code",
   "execution_count": 102,
   "metadata": {},
   "outputs": [
    {
     "data": {
      "text/plain": [
       "True"
      ]
     },
     "execution_count": 102,
     "metadata": {},
     "output_type": "execute_result"
    }
   ],
   "source": [
    "# The drug sensitivity we want to deconvolution is stored in variable Y\n",
    "Y = np.array(drug_resp_bulk)\n",
    "# CLIP y between 0.0 and 1.0 (this should be a probability, but it can happen that this value is superior \n",
    "# to 1.0 as it is normalized with respect to the cell survival at dose=0)\n",
    "Y = np.array([np.clip(x,0.0,1.0) for x in Y])\n",
    "# Check that we have same sample IDs in same order\n",
    "all(W.T.columns == sign_mat.columns)"
   ]
  },
  {
   "cell_type": "markdown",
   "metadata": {},
   "source": [
    "We standardize our signature matrix"
   ]
  },
  {
   "cell_type": "code",
   "execution_count": 103,
   "metadata": {},
   "outputs": [],
   "source": [
    "scaler = StandardScaler()\n",
    "scaler.fit(sign_mat)\n",
    "S = scaler.transform(sign_mat)"
   ]
  },
  {
   "cell_type": "markdown",
   "metadata": {},
   "source": [
    "## Run CLIFF"
   ]
  },
  {
   "cell_type": "markdown",
   "metadata": {},
   "source": [
    "We first run CLIFF with one single drug (Nilotinib) and one single timepoint (48h) as an example. We will after run all drugs and all timepoints together."
   ]
  },
  {
   "cell_type": "code",
   "execution_count": 104,
   "metadata": {},
   "outputs": [
    {
     "name": "stdout",
     "output_type": "stream",
     "text": [
      "Stopping at step 40/100, loss = 0.49498776796623706\n"
     ]
    }
   ],
   "source": [
    "# First, load the data into DataContainer Class\n",
    "dc = DataContainer(sign_mat, S, np.array(W), Y, n_dose=10)\n",
    "\n",
    "# Build Cliff object and run it\n",
    "Cliff_obj = Cliff(dc, n_iter = 100, n_fold_cv = 4, param_C = 30, print_steps=False) # param_C is the regularization parameter, we found it optimal around 30-50\n",
    "Cliff_obj.run()"
   ]
  },
  {
   "cell_type": "code",
   "execution_count": 105,
   "metadata": {},
   "outputs": [
    {
     "data": {
      "text/plain": [
       "[<matplotlib.lines.Line2D at 0x7fd4db99aed0>]"
      ]
     },
     "execution_count": 105,
     "metadata": {},
     "output_type": "execute_result"
    },
    {
     "data": {
      "image/png": "[encoded data removed]",
      "text/plain": [
       "<Figure size 640x480 with 1 Axes>"
      ]
     },
     "metadata": {},
     "output_type": "display_data"
    }
   ],
   "source": [
    "plt.plot(np.array(Cliff_obj.PI).flatten(), np.array(drug_resp_true_av.T).flatten(), 'o')"
   ]
  },
  {
   "cell_type": "code",
   "execution_count": 74,
   "metadata": {},
   "outputs": [
    {
     "data": {
      "text/plain": [
       "(0.9521775003503141, 3.649573608698712e-21)"
      ]
     },
     "execution_count": 74,
     "metadata": {},
     "output_type": "execute_result"
    }
   ],
   "source": [
    "pearsonr(np.array(Cliff_obj.PI).flatten(), np.array(drug_resp_true_av.T).flatten())"
   ]
  },
  {
   "cell_type": "markdown",
   "metadata": {},
   "source": [
    "Then we can represent the ground truth, experimentally-assessed, cell-line drug sensitivity (left) with the results from the deconvolution algorithm (on the right). "
   ]
  },
  {
   "cell_type": "code",
   "execution_count": 75,
   "metadata": {},
   "outputs": [
    {
     "data": {
      "image/png": "[encoded data removed]",
      "text/plain": [
       "<Figure size 1600x600 with 4 Axes>"
      ]
     },
     "metadata": {},
     "output_type": "display_data"
    }
   ],
   "source": [
    "cmap_type = 'Spectral'\n",
    "fig, axs = plt.subplots(1,2, figsize=(8,3), dpi=200)\n",
    "sb.heatmap(np.array(drug_resp_true_av)*100, ax=axs[0], vmin=0, vmax=100,  cmap=cmap_type,\n",
    "           cbar_kws = dict(use_gridspec=True,location=\"top\"))\n",
    "sb.heatmap(np.array(Cliff_obj.PI.T)*100, ax=axs[1], vmin=0, vmax=100, cmap=cmap_type,\n",
    "           cbar_kws = dict(use_gridspec=True,location=\"top\"))\n",
    "axs[0].tick_params(rotation=0) ; axs[1].tick_params(rotation=0)\n",
    "axs[1].yaxis.tick_right() ; axs[1].tick_params(rotation=0)\n",
    "axs[1].set_xticklabels(drug_resp_true_av.columns, rotation=45, ha='right', rotation_mode='anchor')\n",
    "axs[0].set_xticklabels(drug_resp_true_av.columns, rotation=45, ha='right', rotation_mode='anchor')\n",
    "axs[1].set_yticklabels(drug_resp_true_av.index) ; axs[0].set_yticklabels(drug_resp_true_av.index)\n",
    "plt.tight_layout()\n",
    "plt.show()"
   ]
  },
  {
   "cell_type": "markdown",
   "metadata": {},
   "source": [
    "Of course, we cherry-picked one drug and timepoint that works better than average. We will now run all drugs and timepoints together to have the full picture."
   ]
  },
  {
   "cell_type": "markdown",
   "metadata": {},
   "source": [
    "# CLIFF run over all drugs and timepoints "
   ]
  },
  {
   "cell_type": "markdown",
   "metadata": {},
   "source": [
    "The following script runs for all timepoints (24h, 48h, and 72h), all drugs (5-Aza-2’- deoxycytidine, cytarabine, imatinib, nilotinib, doxorubicin, rapamycin, mitomycin C), and all doses (0.001, 0.002, 0.007, 0.020, 0.062, 0.198, 0.749, 1.996, 6.238, 19.96 [muM]). \n",
    "\n",
    "To make the comparative results between CLIFF+TrueProp, CLIFF+CLIMB, CLIFF+MUSIC, CLIFF+BayesPrism, CLIFF+CiberSortX as in Fig4. F, one needs to run the following loop once for each different cell-line proportions. We provide the processed tables for each of the combination abovementionned.\n",
    "\n",
    "_Note: The loop takes around 30 minutes to run._"
   ]
  },
  {
   "cell_type": "code",
   "execution_count": 86,
   "metadata": {},
   "outputs": [],
   "source": [
    "### Define constants ###\n",
    "drug_indir = 'data/invitro_drug_resp/'\n",
    "rna_expression_file = 'data/invitro_bulk_expr_cpm.csv'\n",
    "celltype_prop_file  = 'data/invitro_true_prop.csv'\n",
    "timepoints = ['48h', '72h', '96h']\n",
    "list_drugs = ['5Aza2d','Cytarabine','Doxorubicin','Imatinib','Mitomycin','Nilotinib','Oxaliplatin','Rapamycin']\n",
    "c = 30 # Regularization parameter"
   ]
  },
  {
   "cell_type": "code",
   "execution_count": 87,
   "metadata": {},
   "outputs": [],
   "source": [
    "### Pre-Processing ### \n",
    "# Load bulk RNA-seq and normalize \n",
    "df_full = pd.read_csv(rna_expression_file, delimiter=',', index_col=0)\n",
    "bulk_expr = df_full.T.iloc[1:7].T\n",
    "bulk_expr.sort_index(axis=0, inplace=True)\n",
    "\n",
    "# sign_mat is a data.frame containing expression in CPM\n",
    "symbol_vec = np.array(df_full.T.iloc[0])\n",
    "sign_mat = df_full.T.iloc[7:11].T\n",
    "sign_mat.sort_index(axis=0, inplace=True)\n",
    "# We scale sign_mat values and put them in a S numpy matrix\n",
    "scaler = StandardScaler()\n",
    "scaler.fit(sign_mat)\n",
    "S = scaler.transform(sign_mat)\n",
    "\n",
    "# Load cell type proportions \n",
    "W_single = pd.read_csv(celltype_prop_file, index_col=0)\n",
    "# We double it to match our drug sensitivity replicates\n",
    "W_1 = W_single.copy() ; W_1.index = W_single.index+'_n1'\n",
    "W_2 = W_single.copy() ; W_2.index=W_single.index+'_n2'\n",
    "W = pd.concat([W_1, W_2]).T ; W = W.iloc[0:4,:]"
   ]
  },
  {
   "cell_type": "code",
   "execution_count": 88,
   "metadata": {},
   "outputs": [
    {
     "name": "stdout",
     "output_type": "stream",
     "text": [
      "5Aza2d 48h\n",
      "Stopping at step 6/100, loss = 0.13754645675417812\n",
      "Cytarabine 48h\n",
      "Stopping at step 11/100, loss = -0.3052683581423827\n",
      "Doxorubicin 48h\n",
      "Stopping at step 10/100, loss = -0.040689573281058614\n",
      "Imatinib 48h\n",
      "Stopping at step 18/100, loss = -0.04549681670006237\n",
      "Mitomycin 48h\n",
      "Stopping at step 14/100, loss = -0.20362186580822156\n",
      "Nilotinib 48h\n",
      "Stopping at step 37/100, loss = 0.46805042687311754\n",
      "Oxaliplatin 48h\n",
      "Stopping at step 7/100, loss = -0.7112297472375075\n",
      "Rapamycin 48h\n",
      "Stopping at step 15/100, loss = 0.6189893629430391\n",
      "5Aza2d 72h\n",
      "Stopping at step 58/100, loss = 0.04814777703566576\n",
      "Cytarabine 72h\n",
      "Stopping at step 26/100, loss = -0.3266555271689216\n",
      "Doxorubicin 72h\n",
      "Stopping at step 36/100, loss = -0.12065800106912124\n",
      "Imatinib 72h\n",
      "Stopping at step 16/100, loss = -0.21130737147933523\n",
      "Mitomycin 72h\n",
      "Stopping at step 25/100, loss = -0.45136972003758796\n",
      "Nilotinib 72h\n",
      "Stopping at step 26/100, loss = 0.36647456449110805\n",
      "Oxaliplatin 72h\n",
      "Stopping at step 5/100, loss = -1.0223839683295888\n",
      "Rapamycin 72h\n",
      "Stopping at step 30/100, loss = 0.6162338550154693\n",
      "5Aza2d 96h\n",
      "Stopping at step 23/100, loss = 0.29323047149588805\n",
      "Cytarabine 96h\n",
      "Stopping at step 15/100, loss = -0.03309022761364692\n",
      "Doxorubicin 96h\n",
      "Stopping at step 14/100, loss = 0.05905590125860091\n",
      "Imatinib 96h\n",
      "Stopping at step 23/100, loss = 0.030930747884045665\n",
      "Mitomycin 96h\n",
      "Stopping at step 13/100, loss = -0.06009499575516401\n",
      "Nilotinib 96h\n",
      "Stopping at step 39/100, loss = 0.4800906024218316\n",
      "Oxaliplatin 96h\n",
      "Stopping at step 6/100, loss = -0.41732652815998617\n",
      "Rapamycin 96h\n",
      "Stopping at step 23/100, loss = 0.6184940121993056\n"
     ]
    }
   ],
   "source": [
    "### Launch Loop over all Drugs and timepoints ###\n",
    "general_results, list_scor_cell = [], []\n",
    "for t, timep in enumerate(timepoints):\n",
    "    list_scor_bulk_d, list_scor_cell_d = [], []\n",
    "    # iterate over drugs\n",
    "    for d, drug in enumerate(list_drugs):\n",
    "        print(drug, timep)\n",
    "        drug_resp_file = drug_indir + 'Y_' + timep + '_' + drug + \".csv\"\n",
    "        drug_resp_full = pd.read_csv(drug_resp_file, delimiter=',', index_col=0)\n",
    "        drug_resp = drug_resp_full.iloc[8:]\n",
    "        drug_resp_true = drug_resp_full.iloc[:8]\n",
    "        drug_resp_true_norm = pd.DataFrame(np.array([np.clip(x,0.0,1.0) for x in np.array(drug_resp_true)]),\n",
    "                                   index = drug_resp_true.index, columns = drug_resp_true.columns)\n",
    "        cell_line_name = [x.replace(\"_n1\",\"\",).replace(\"_n2\",\"\",) for x in np.array(drug_resp_true_norm.index)][::2]\n",
    "        drug_resp_true_av = pd.DataFrame(np.array([np.average(np.array(drug_resp_true_norm)[:,x].reshape(-1, 2), axis=1) for x in range(drug_resp_true.shape[1])])).T\n",
    "        drug_resp_true_av.index = cell_line_name\n",
    "        drug_resp_true_av.columns = drug_resp_true_norm.columns\n",
    "        drug_resp_true_av.sort_index(axis=0, inplace=True)\n",
    "        \n",
    "        y_true = np.array(drug_resp)\n",
    "        \n",
    "        # sort all tables and check labels correspondance\n",
    "        W.sort_index(axis=0, inplace=True)\n",
    "        W.sort_index(axis=1, inplace=True)\n",
    "        drug_resp.sort_index(axis=0, inplace=True)\n",
    "        sign_mat.sort_index(axis=1, inplace=True)\n",
    "\n",
    "        ### Run CLIFF Deconvolution ### \n",
    "        dc = DataContainer(sign_mat, S, np.array(W), y_true, n_dose=10)\n",
    "        # Make CLIFF object\n",
    "        Cliff_obj = Cliff(dc, n_iter = 100, n_fold_cv = 4, param_C = c, print_steps=False)\n",
    "        Cliff_obj.run()\n",
    "\n",
    "        pi_pred = Cliff_obj.PI\n",
    "        pi_true = drug_resp_true_av.T\n",
    "\n",
    "        melt_df = pi_pred.melt() ; melt_df['drug'] = drug\n",
    "        melt_df['true_d_sens'] = pi_true.melt()['value'] ; melt_df['timepoint'] = timep\n",
    "        general_results.append(melt_df)\n",
    "\n",
    "pd_general_results = pd.concat(general_results)\n",
    "pd_general_results['c_param'] = c"
   ]
  },
  {
   "cell_type": "markdown",
   "metadata": {},
   "source": [
    "We save the results that will be used in the notebook `cliff_invitro_analysis.ipynb` "
   ]
  },
  {
   "cell_type": "code",
   "execution_count": 89,
   "metadata": {},
   "outputs": [],
   "source": [
    "pd_general_results.columns = ['cell_line', 'pred_survival', 'drug', 'true_survival', 'timepoint', 'c_param']"
   ]
  },
  {
   "cell_type": "markdown",
   "metadata": {},
   "source": [
    "We can then compare the ground truth experimentally-assed cell-line drug sensitivity (x-axis), with the results of CLIFF deconvolution (y-axis), for all drugs and all timepoints :"
   ]
  },
  {
   "cell_type": "code",
   "execution_count": 90,
   "metadata": {},
   "outputs": [
    {
     "data": {
      "image/png": "[encoded data removed]",
      "text/plain": [
       "<Figure size 600x600 with 1 Axes>"
      ]
     },
     "metadata": {},
     "output_type": "display_data"
    }
   ],
   "source": [
    "plt.figure(figsize=(6,6))\n",
    "plt.plot(pd_general_results['true_survival'], pd_general_results['pred_survival'], 'o') \n",
    "plt.xlabel('true viability') ; plt.ylabel('predicted viability') ; plt.show()"
   ]
  },
  {
   "cell_type": "code",
   "execution_count": 91,
   "metadata": {},
   "outputs": [
    {
     "data": {
      "text/plain": [
       "(0.886532033411616, 6e-323)"
      ]
     },
     "execution_count": 91,
     "metadata": {},
     "output_type": "execute_result"
    }
   ],
   "source": [
    "pearsonr(pd_general_results['true_survival'], pd_general_results['pred_survival'])"
   ]
  },
  {
   "cell_type": "code",
   "execution_count": 92,
   "metadata": {},
   "outputs": [],
   "source": [
    "# We write the results which will then be analysed in `cliff_invitro_analysis.ipynb` notebook\n",
    "pd_general_results.to_csv('data/invitro_cliff_trueprop_predictions.csv', index=None)"
   ]
  },
  {
   "cell_type": "markdown",
   "metadata": {},
   "source": [
    "Similarly, we can launch the loop above with different cell-type proportions, BayesPrism, CiberSortX, or with the true proportions in W_true. "
   ]
  },
  {
   "cell_type": "code",
   "execution_count": 142,
   "metadata": {},
   "outputs": [],
   "source": [
    "def print_bar(percentage):\n",
    "    for n,num in enumerate(range(0,100,10)):\n",
    "        print('o', end='') if percentage > num else print('-',end='')"
   ]
  }
 ],
 "metadata": {
  "jupytext": {
   "formats": "ipynb,md"
  },
  "kernelspec": {
   "display_name": "spatial-sc-env",
   "language": "python",
   "name": "spatial-sc-env"
  },
  "language_info": {
   "codemirror_mode": {
    "name": "ipython",
    "version": 3
   },
   "file_extension": ".py",
   "mimetype": "text/x-python",
   "name": "python",
   "nbconvert_exporter": "python",
   "pygments_lexer": "ipython3",
   "version": "3.7.10"
  }
 },
 "nbformat": 4,
 "nbformat_minor": 4
}
